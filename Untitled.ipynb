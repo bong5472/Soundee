{
 "cells": [
  {
   "cell_type": "code",
   "execution_count": 1,
   "id": "c816e836",
   "metadata": {},
   "outputs": [
    {
     "name": "stdout",
     "output_type": "stream",
     "text": [
      "       R    G    B  Soft  Dynamic Mood\n",
      "0    193  230  212     3        0   맑은\n",
      "1    255  255  255     3        0   맑은\n",
      "2    246  246  246     3        0   맑은\n",
      "3    230  245  238     3        1   맑은\n",
      "4    248  248  212     3        1   맑은\n",
      "..   ...  ...  ...   ...      ...  ...\n",
      "127  248  248  217    -1       -3  고귀한\n",
      "128  194  182  134    -1       -3  고귀한\n",
      "129   30   30   30    -2       -3  고귀한\n",
      "130  114  101  100    -2       -3  고귀한\n",
      "131   65   65   60    -2       -3  고귀한\n",
      "\n",
      "[132 rows x 6 columns]\n"
     ]
    }
   ],
   "source": [
    "import pandas as pd\n",
    "\n",
    "mood = pd.read_csv('mood.csv',encoding='cp949')\n",
    "\n",
    "print(mood)"
   ]
  },
  {
   "cell_type": "code",
   "execution_count": null,
   "id": "6072a2ed",
   "metadata": {},
   "outputs": [],
   "source": []
  }
 ],
 "metadata": {
  "kernelspec": {
   "display_name": "Python 3",
   "language": "python",
   "name": "python3"
  },
  "language_info": {
   "codemirror_mode": {
    "name": "ipython",
    "version": 3
   },
   "file_extension": ".py",
   "mimetype": "text/x-python",
   "name": "python",
   "nbconvert_exporter": "python",
   "pygments_lexer": "ipython3",
   "version": "3.8.8"
  }
 },
 "nbformat": 4,
 "nbformat_minor": 5
}
